{
 "cells": [
  {
   "cell_type": "code",
   "execution_count": null,
   "metadata": {},
   "outputs": [],
   "source": [
    "import pandas as pd\n",
    "\n",
    "trans_bioma_est = pd.read_csv('/Users/lucasleivazupolini/Desktop/projeto_final/transicao_estado_bioma_de_para_anual.csv')\n",
    "gases_est = pd.read_csv('/Users/lucasleivazupolini/Desktop/projeto_final/uf.csv')\n",
    "queimadas = pd.read_csv('/Users/lucasleivazupolini/Desktop/projeto_final/Focos_2022-08-18_2022-08-19.csv')\n",
    "\n",
    "#Os dados de gases, para antes de 1990, nao consideram as \n",
    "#fontes de mudança de uso do solo e nao sao comparaveis, e os dados de mudança do uso\n",
    "#do solo só vão até 2019. Por isso, usamos apenas o recorte de 90-19\n",
    "bioma_90_22 = trans_bioma_est[trans_bioma_est[\"ano\"] > 1990]\n",
    "\n",
    "#"
   ]
  }
 ],
 "metadata": {
  "language_info": {
   "name": "python"
  },
  "orig_nbformat": 4
 },
 "nbformat": 4,
 "nbformat_minor": 2
}
